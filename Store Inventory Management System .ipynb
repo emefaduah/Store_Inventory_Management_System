{
 "cells": [
  {
   "cell_type": "markdown",
   "id": "3cec764b",
   "metadata": {},
   "source": [
    "# Store Inventory Management System\n",
    "\n",
    "##### By Emefa Duah"
   ]
  },
  {
   "cell_type": "code",
   "execution_count": null,
   "id": "78e2342e",
   "metadata": {},
   "outputs": [],
   "source": [
    "#Inventory management systems control the process of managing all incoming and outgoing products in a retail store or online.\n",
    "##This project is programmed to order one item at a time from store"
   ]
  },
  {
   "cell_type": "code",
   "execution_count": 23,
   "id": "373f6248",
   "metadata": {},
   "outputs": [],
   "source": [
    "class StoreInventory:\n",
    "    def __init__ (self):\n",
    "        self.dict = {}                                      # dictionary to store items in the store\n",
    "        self.promo = {'PROMO1':1}                           # dictionary to store all promo code and discount %\n",
    "     \n",
    "    \n",
    "    def add(self, item_name,quantity,unit_price):           #add items to the store\n",
    "        self.item_name = item_name\n",
    "        self.quantity = quantity\n",
    "        self.unit_price = unit_price\n",
    "        if item_name not in self.dict:\n",
    "            self.dict[item_name] = {\"quantity\":quantity, \"unit price\":unit_price}\n",
    "        else:\n",
    "            raise KeyError (f'{item_name} is already in the store')\n",
    "        \n",
    "    def __str__ (self):\n",
    "        return f\"These are items you have in your store :{self.dict}\"\n",
    "     \n",
    "    def delete(self, item_name):                              #remove items from the store\n",
    "        if item_name in self.dict: \n",
    "            self.dict.pop(item_name)\n",
    "            \n",
    "    def update(self, item_name, quantity):                     #restock items into store\n",
    "        self.dict[item_name][\"quantity\"] += quantity\n",
    "        \n",
    "    def rem_q(self, item_name):                                #check the remaining items of a particular item\n",
    "        if item_name in self.dict: \n",
    "            z = self.dict[item_name][\"quantity\"]\n",
    "            return f\"There are {z} number of {item_name} remaining in the store\"  \n",
    "    \n",
    "    def add_promo(self,code,discount):                         #add promo codes with discount  \n",
    "         self.promo[code] = 1 - discount\n",
    "        \n",
    "    def order_item(self,item_name, quantity, promo='PROMO1'):  #order an item from the store with or without promo code\n",
    "        if item_name in self.dict: \n",
    "            if quantity <= self.dict[item_name][\"quantity\"]:\n",
    "                if promo in self.promo: \n",
    "                    self.dict[item_name][\"quantity\"] -= quantity             \n",
    "                    total = quantity * self.dict[item_name][\"unit price\"]\n",
    "                    total_p = total * self.promo[promo]\n",
    "                    return f\"You ordered {quantity} {item_name}s and your total is {total_p}GHs.\"\n",
    "                else:\n",
    "                    raise KeyError ('Invalid Promo Code. Check your Promo code and try again') \n",
    "            else:\n",
    "                raise  ValueError (f'Sorry. The number {item_name}s ordered exceeds what we have in stock')\n",
    "        else:\n",
    "            raise KeyError (f'Sorry {item_name} not available in store')  "
   ]
  },
  {
   "cell_type": "code",
   "execution_count": 24,
   "id": "7807e5ea",
   "metadata": {},
   "outputs": [],
   "source": [
    "# Storing StoreInventory in store\n",
    "store = StoreInventory()"
   ]
  },
  {
   "cell_type": "code",
   "execution_count": 25,
   "id": "3c8a31c8",
   "metadata": {},
   "outputs": [],
   "source": [
    "# Adding new items into Store\n",
    "store.add('Bag',100,70)\n",
    "store.add('Heel',150,100)\n",
    "store.add('Dress',200,150)"
   ]
  },
  {
   "cell_type": "code",
   "execution_count": 26,
   "id": "33cd9bb5",
   "metadata": {},
   "outputs": [
    {
     "data": {
      "text/plain": [
       "{'Bag': {'quantity': 100, 'unit price': 70},\n",
       " 'Heel': {'quantity': 150, 'unit price': 100},\n",
       " 'Dress': {'quantity': 200, 'unit price': 150}}"
      ]
     },
     "execution_count": 26,
     "metadata": {},
     "output_type": "execute_result"
    }
   ],
   "source": [
    "#what do we have in stock\n",
    "store.dict"
   ]
  },
  {
   "cell_type": "code",
   "execution_count": 27,
   "id": "c69ee6c2",
   "metadata": {},
   "outputs": [],
   "source": [
    "#Deleting Bag from Stock\n",
    "store.delete('Bag')"
   ]
  },
  {
   "cell_type": "code",
   "execution_count": 29,
   "id": "9210ebe1",
   "metadata": {},
   "outputs": [
    {
     "data": {
      "text/plain": [
       "{'Heel': {'quantity': 150, 'unit price': 100},\n",
       " 'Dress': {'quantity': 200, 'unit price': 150}}"
      ]
     },
     "execution_count": 29,
     "metadata": {},
     "output_type": "execute_result"
    }
   ],
   "source": [
    "#what do we have in stock\n",
    "store.dict"
   ]
  },
  {
   "cell_type": "code",
   "execution_count": 30,
   "id": "1507662c",
   "metadata": {},
   "outputs": [],
   "source": [
    "store.add('Earring',20,20)"
   ]
  },
  {
   "cell_type": "code",
   "execution_count": 31,
   "id": "fa166a5e",
   "metadata": {},
   "outputs": [
    {
     "data": {
      "text/plain": [
       "{'Heel': {'quantity': 150, 'unit price': 100},\n",
       " 'Dress': {'quantity': 200, 'unit price': 150},\n",
       " 'Earring': {'quantity': 20, 'unit price': 20}}"
      ]
     },
     "execution_count": 31,
     "metadata": {},
     "output_type": "execute_result"
    }
   ],
   "source": [
    "#what do we have in stock\n",
    "store.dict"
   ]
  },
  {
   "cell_type": "code",
   "execution_count": 32,
   "id": "2a62a1fa",
   "metadata": {},
   "outputs": [],
   "source": [
    "#Restocking  10 Earrings\n",
    "store.update('Earring',10)"
   ]
  },
  {
   "cell_type": "code",
   "execution_count": 33,
   "id": "160d8c01",
   "metadata": {},
   "outputs": [
    {
     "data": {
      "text/plain": [
       "{'Heel': {'quantity': 150, 'unit price': 100},\n",
       " 'Dress': {'quantity': 200, 'unit price': 150},\n",
       " 'Earring': {'quantity': 30, 'unit price': 20}}"
      ]
     },
     "execution_count": 33,
     "metadata": {},
     "output_type": "execute_result"
    }
   ],
   "source": [
    "#what do we have in stock\n",
    "store.dict"
   ]
  },
  {
   "cell_type": "code",
   "execution_count": 34,
   "id": "a64240dc",
   "metadata": {},
   "outputs": [],
   "source": [
    "#Adding new promo codes\n",
    "store.add_promo('PROMO2',0.1)\n",
    "store.add_promo('PROMO3',0.3)"
   ]
  },
  {
   "cell_type": "code",
   "execution_count": 35,
   "id": "67bc5b51",
   "metadata": {},
   "outputs": [
    {
     "data": {
      "text/plain": [
       "{'PROMO1': 1, 'PROMO2': 0.9, 'PROMO3': 0.7}"
      ]
     },
     "execution_count": 35,
     "metadata": {},
     "output_type": "execute_result"
    }
   ],
   "source": [
    "store.promo"
   ]
  },
  {
   "cell_type": "code",
   "execution_count": 36,
   "id": "7fde1196",
   "metadata": {},
   "outputs": [
    {
     "ename": "KeyError",
     "evalue": "'Sorry Bag not available in store'",
     "output_type": "error",
     "traceback": [
      "\u001b[1;31m---------------------------------------------------------------------------\u001b[0m",
      "\u001b[1;31mKeyError\u001b[0m                                  Traceback (most recent call last)",
      "Input \u001b[1;32mIn [36]\u001b[0m, in \u001b[0;36m<cell line: 1>\u001b[1;34m()\u001b[0m\n\u001b[1;32m----> 1\u001b[0m \u001b[43mstore\u001b[49m\u001b[38;5;241;43m.\u001b[39;49m\u001b[43morder_item\u001b[49m\u001b[43m(\u001b[49m\u001b[38;5;124;43m'\u001b[39;49m\u001b[38;5;124;43mBag\u001b[39;49m\u001b[38;5;124;43m'\u001b[39;49m\u001b[43m,\u001b[49m\u001b[38;5;241;43m5\u001b[39;49m\u001b[43m)\u001b[49m\n",
      "Input \u001b[1;32mIn [23]\u001b[0m, in \u001b[0;36mStoreInventory.order_item\u001b[1;34m(self, item_name, quantity, promo)\u001b[0m\n\u001b[0;32m     45\u001b[0m         \u001b[38;5;28;01mraise\u001b[39;00m  \u001b[38;5;167;01mValueError\u001b[39;00m (\u001b[38;5;124mf\u001b[39m\u001b[38;5;124m'\u001b[39m\u001b[38;5;124mSorry. The number \u001b[39m\u001b[38;5;132;01m{\u001b[39;00mitem_name\u001b[38;5;132;01m}\u001b[39;00m\u001b[38;5;124ms ordered exceeds what we have in stock\u001b[39m\u001b[38;5;124m'\u001b[39m)\n\u001b[0;32m     46\u001b[0m \u001b[38;5;28;01melse\u001b[39;00m:\n\u001b[1;32m---> 47\u001b[0m     \u001b[38;5;28;01mraise\u001b[39;00m \u001b[38;5;167;01mKeyError\u001b[39;00m (\u001b[38;5;124mf\u001b[39m\u001b[38;5;124m'\u001b[39m\u001b[38;5;124mSorry \u001b[39m\u001b[38;5;132;01m{\u001b[39;00mitem_name\u001b[38;5;132;01m}\u001b[39;00m\u001b[38;5;124m not available in store\u001b[39m\u001b[38;5;124m'\u001b[39m)\n",
      "\u001b[1;31mKeyError\u001b[0m: 'Sorry Bag not available in store'"
     ]
    }
   ],
   "source": [
    "#Bag not available in store\n",
    "store.order_item('Bag',5)"
   ]
  },
  {
   "cell_type": "code",
   "execution_count": 37,
   "id": "fd354966",
   "metadata": {},
   "outputs": [
    {
     "data": {
      "text/plain": [
       "'You ordered 5 Earrings and your total is 100GHs.'"
      ]
     },
     "execution_count": 37,
     "metadata": {},
     "output_type": "execute_result"
    }
   ],
   "source": [
    "#Ordering  5 Earrings\n",
    "store.order_item('Earring',5)"
   ]
  },
  {
   "cell_type": "code",
   "execution_count": 38,
   "id": "1ff0089c",
   "metadata": {},
   "outputs": [
    {
     "data": {
      "text/plain": [
       "{'Heel': {'quantity': 150, 'unit price': 100},\n",
       " 'Dress': {'quantity': 200, 'unit price': 150},\n",
       " 'Earring': {'quantity': 25, 'unit price': 20}}"
      ]
     },
     "execution_count": 38,
     "metadata": {},
     "output_type": "execute_result"
    }
   ],
   "source": [
    "#quantity of Earring reduced by 5\n",
    "store.dict"
   ]
  },
  {
   "cell_type": "code",
   "execution_count": 39,
   "id": "9040dc55",
   "metadata": {},
   "outputs": [
    {
     "data": {
      "text/plain": [
       "'You ordered 10 Dresss and your total is 1350.0GHs.'"
      ]
     },
     "execution_count": 39,
     "metadata": {},
     "output_type": "execute_result"
    }
   ],
   "source": [
    "#Ordering Dress with promo code\n",
    "store.order_item('Dress',10,'PROMO2')"
   ]
  },
  {
   "cell_type": "code",
   "execution_count": 40,
   "id": "1d8e110e",
   "metadata": {},
   "outputs": [
    {
     "data": {
      "text/plain": [
       "'You ordered 10 Dresss and your total is 1500GHs.'"
      ]
     },
     "execution_count": 40,
     "metadata": {},
     "output_type": "execute_result"
    }
   ],
   "source": [
    "#Ordering Dress without promo code\n",
    "store.order_item('Dress',10)"
   ]
  },
  {
   "cell_type": "code",
   "execution_count": 41,
   "id": "bd0d1c0a",
   "metadata": {},
   "outputs": [
    {
     "ename": "KeyError",
     "evalue": "'Invalid Promo Code. Check your Promo code and try again'",
     "output_type": "error",
     "traceback": [
      "\u001b[1;31m---------------------------------------------------------------------------\u001b[0m",
      "\u001b[1;31mKeyError\u001b[0m                                  Traceback (most recent call last)",
      "Input \u001b[1;32mIn [41]\u001b[0m, in \u001b[0;36m<cell line: 1>\u001b[1;34m()\u001b[0m\n\u001b[1;32m----> 1\u001b[0m \u001b[43mstore\u001b[49m\u001b[38;5;241;43m.\u001b[39;49m\u001b[43morder_item\u001b[49m\u001b[43m(\u001b[49m\u001b[38;5;124;43m'\u001b[39;49m\u001b[38;5;124;43mHeel\u001b[39;49m\u001b[38;5;124;43m'\u001b[39;49m\u001b[43m,\u001b[49m\u001b[38;5;241;43m2\u001b[39;49m\u001b[43m,\u001b[49m\u001b[38;5;124;43m'\u001b[39;49m\u001b[38;5;124;43mPROMO11\u001b[39;49m\u001b[38;5;124;43m'\u001b[39;49m\u001b[43m)\u001b[49m\n",
      "Input \u001b[1;32mIn [23]\u001b[0m, in \u001b[0;36mStoreInventory.order_item\u001b[1;34m(self, item_name, quantity, promo)\u001b[0m\n\u001b[0;32m     41\u001b[0m         \u001b[38;5;28;01mreturn\u001b[39;00m \u001b[38;5;124mf\u001b[39m\u001b[38;5;124m\"\u001b[39m\u001b[38;5;124mYou ordered \u001b[39m\u001b[38;5;132;01m{\u001b[39;00mquantity\u001b[38;5;132;01m}\u001b[39;00m\u001b[38;5;124m \u001b[39m\u001b[38;5;132;01m{\u001b[39;00mitem_name\u001b[38;5;132;01m}\u001b[39;00m\u001b[38;5;124ms and your total is \u001b[39m\u001b[38;5;132;01m{\u001b[39;00mtotal_p\u001b[38;5;132;01m}\u001b[39;00m\u001b[38;5;124mGHs.\u001b[39m\u001b[38;5;124m\"\u001b[39m\n\u001b[0;32m     42\u001b[0m     \u001b[38;5;28;01melse\u001b[39;00m:\n\u001b[1;32m---> 43\u001b[0m         \u001b[38;5;28;01mraise\u001b[39;00m \u001b[38;5;167;01mKeyError\u001b[39;00m (\u001b[38;5;124m'\u001b[39m\u001b[38;5;124mInvalid Promo Code. Check your Promo code and try again\u001b[39m\u001b[38;5;124m'\u001b[39m) \n\u001b[0;32m     44\u001b[0m \u001b[38;5;28;01melse\u001b[39;00m:\n\u001b[0;32m     45\u001b[0m     \u001b[38;5;28;01mraise\u001b[39;00m  \u001b[38;5;167;01mValueError\u001b[39;00m (\u001b[38;5;124mf\u001b[39m\u001b[38;5;124m'\u001b[39m\u001b[38;5;124mSorry. The number \u001b[39m\u001b[38;5;132;01m{\u001b[39;00mitem_name\u001b[38;5;132;01m}\u001b[39;00m\u001b[38;5;124ms ordered exceeds what we have in stock\u001b[39m\u001b[38;5;124m'\u001b[39m)\n",
      "\u001b[1;31mKeyError\u001b[0m: 'Invalid Promo Code. Check your Promo code and try again'"
     ]
    }
   ],
   "source": [
    "#wrong promo code\n",
    "store.order_item('Heel',2,'PROMO11')"
   ]
  },
  {
   "cell_type": "code",
   "execution_count": 42,
   "id": "a74947af",
   "metadata": {},
   "outputs": [
    {
     "data": {
      "text/plain": [
       "'There are 180 number of Dress remaining in the store'"
      ]
     },
     "execution_count": 42,
     "metadata": {},
     "output_type": "execute_result"
    }
   ],
   "source": [
    "#How many Dresses do we have in stock\n",
    "store.rem_q('Dress')"
   ]
  },
  {
   "cell_type": "code",
   "execution_count": 43,
   "id": "4dd92977",
   "metadata": {},
   "outputs": [
    {
     "ename": "ValueError",
     "evalue": "Sorry. The number Dresss ordered exceeds what we have in stock",
     "output_type": "error",
     "traceback": [
      "\u001b[1;31m---------------------------------------------------------------------------\u001b[0m",
      "\u001b[1;31mValueError\u001b[0m                                Traceback (most recent call last)",
      "Input \u001b[1;32mIn [43]\u001b[0m, in \u001b[0;36m<cell line: 2>\u001b[1;34m()\u001b[0m\n\u001b[0;32m      1\u001b[0m \u001b[38;5;66;03m# Ordering items that exceeds what we have in stock\u001b[39;00m\n\u001b[1;32m----> 2\u001b[0m \u001b[43mstore\u001b[49m\u001b[38;5;241;43m.\u001b[39;49m\u001b[43morder_item\u001b[49m\u001b[43m(\u001b[49m\u001b[38;5;124;43m'\u001b[39;49m\u001b[38;5;124;43mDress\u001b[39;49m\u001b[38;5;124;43m'\u001b[39;49m\u001b[43m,\u001b[49m\u001b[38;5;241;43m200\u001b[39;49m\u001b[43m)\u001b[49m\n",
      "Input \u001b[1;32mIn [23]\u001b[0m, in \u001b[0;36mStoreInventory.order_item\u001b[1;34m(self, item_name, quantity, promo)\u001b[0m\n\u001b[0;32m     43\u001b[0m             \u001b[38;5;28;01mraise\u001b[39;00m \u001b[38;5;167;01mKeyError\u001b[39;00m (\u001b[38;5;124m'\u001b[39m\u001b[38;5;124mInvalid Promo Code. Check your Promo code and try again\u001b[39m\u001b[38;5;124m'\u001b[39m) \n\u001b[0;32m     44\u001b[0m     \u001b[38;5;28;01melse\u001b[39;00m:\n\u001b[1;32m---> 45\u001b[0m         \u001b[38;5;28;01mraise\u001b[39;00m  \u001b[38;5;167;01mValueError\u001b[39;00m (\u001b[38;5;124mf\u001b[39m\u001b[38;5;124m'\u001b[39m\u001b[38;5;124mSorry. The number \u001b[39m\u001b[38;5;132;01m{\u001b[39;00mitem_name\u001b[38;5;132;01m}\u001b[39;00m\u001b[38;5;124ms ordered exceeds what we have in stock\u001b[39m\u001b[38;5;124m'\u001b[39m)\n\u001b[0;32m     46\u001b[0m \u001b[38;5;28;01melse\u001b[39;00m:\n\u001b[0;32m     47\u001b[0m     \u001b[38;5;28;01mraise\u001b[39;00m \u001b[38;5;167;01mKeyError\u001b[39;00m (\u001b[38;5;124mf\u001b[39m\u001b[38;5;124m'\u001b[39m\u001b[38;5;124mSorry \u001b[39m\u001b[38;5;132;01m{\u001b[39;00mitem_name\u001b[38;5;132;01m}\u001b[39;00m\u001b[38;5;124m not available in store\u001b[39m\u001b[38;5;124m'\u001b[39m)\n",
      "\u001b[1;31mValueError\u001b[0m: Sorry. The number Dresss ordered exceeds what we have in stock"
     ]
    }
   ],
   "source": [
    "# Ordering items that exceeds what we have in stock\n",
    "store.order_item('Dress',200)"
   ]
  },
  {
   "cell_type": "code",
   "execution_count": null,
   "id": "4624d6d5",
   "metadata": {},
   "outputs": [],
   "source": []
  }
 ],
 "metadata": {
  "kernelspec": {
   "display_name": "Python 3 (ipykernel)",
   "language": "python",
   "name": "python3"
  },
  "language_info": {
   "codemirror_mode": {
    "name": "ipython",
    "version": 3
   },
   "file_extension": ".py",
   "mimetype": "text/x-python",
   "name": "python",
   "nbconvert_exporter": "python",
   "pygments_lexer": "ipython3",
   "version": "3.9.12"
  }
 },
 "nbformat": 4,
 "nbformat_minor": 5
}
